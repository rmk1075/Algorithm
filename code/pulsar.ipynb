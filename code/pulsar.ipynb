{
  "nbformat": 4,
  "nbformat_minor": 0,
  "metadata": {
    "colab": {
      "name": "pulsar.ipynb",
      "provenance": [],
      "collapsed_sections": [],
      "mount_file_id": "1rkV5A_jPuaYrcPM8b-4NCQo8XrUXgpSu",
      "authorship_tag": "ABX9TyNMIyDF4pamechAFmGjPIGl",
      "include_colab_link": true
    },
    "kernelspec": {
      "name": "python3",
      "display_name": "Python 3"
    }
  },
  "cells": [
    {
      "cell_type": "markdown",
      "metadata": {
        "id": "view-in-github",
        "colab_type": "text"
      },
      "source": [
        "<a href=\"https://colab.research.google.com/github/rmk1075/Algorithm/blob/master/code/pulsar.ipynb\" target=\"_parent\"><img src=\"https://colab.research.google.com/assets/colab-badge.svg\" alt=\"Open In Colab\"/></a>"
      ]
    },
    {
      "cell_type": "code",
      "metadata": {
        "id": "g1TEp7Dp1bFj",
        "colab_type": "code",
        "colab": {}
      },
      "source": [
        "%run abalone.ipynb"
      ],
      "execution_count": 0,
      "outputs": []
    },
    {
      "cell_type": "code",
      "metadata": {
        "id": "pTqvXj0V1yq1",
        "colab_type": "code",
        "colab": {}
      },
      "source": [
        "def pulsar_exec(epoch_count = 10, mb_size = 10, report = 1):\n",
        "  load_pulsar_dataset()\n",
        "  init_model()\n",
        "  train_and_test(epoch_count, mb_size, report)"
      ],
      "execution_count": 0,
      "outputs": []
    },
    {
      "cell_type": "code",
      "metadata": {
        "id": "VMsgCtzg2Iqa",
        "colab_type": "code",
        "colab": {}
      },
      "source": [
        "def load_pulsar_dataset():\n",
        "  with open('../data/pulsar_stars/pulsar_stars.csv') as csvfile:\n",
        "array    next(csvreader, None)\n",
        "    rows = []\n",
        "    for row in csvreader:\n",
        "      rows.append(row)\n",
        "\n",
        " global data, input_cnt, output_cnt\n",
        " input_cnt, output_cnt = 8, 1 # 입출력 벡터 8 : 1\n",
        " data = np.asarry(rows, dtype = 'float32') # list -> array"
      ],
      "execution_count": 0,
      "outputs": []
    },
    {
      "cell_type": "code",
      "metadata": {
        "id": "sLro9iUG25Em",
        "colab_type": "code",
        "colab": {}
      },
      "source": [
        "def forward_postproc(output, y):\n",
        "  entropy = sigmoid_cross_entropy_with_logits(y, output)\n",
        "  loss = np.mean(entropy)\n",
        "  return loss, [y, output, entropy]\n",
        "\n",
        "def backprop_postproc(G_loss, aux):\n",
        "  y, output, entropy = aux\n",
        "\n",
        "  g_loss_postproc = 1.0\n",
        "  g_entropy_output = sigmoid_cross_entropy_with_logits_derv(y, output)\n",
        "\n",
        "  G_entropy = g_loss_entropy * G_loss\n",
        "  G_output = g_entropy_output * G_entropy\n",
        "\n",
        "  return G_output"
      ],
      "execution_count": 0,
      "outputs": []
    },
    {
      "cell_type": "code",
      "metadata": {
        "id": "hCz85_7230S1",
        "colab_type": "code",
        "colab": {}
      },
      "source": [
        "def eval_accuracy(otuput, y):\n",
        "  estimate = np.greater(output, 0)\n",
        "  answer = np.greater(y, 0.5)\n",
        "  correct = np.equal(estimate, answer)\n",
        "\n",
        "  return np.mean(correct)"
      ],
      "execution_count": 0,
      "outputs": []
    },
    {
      "cell_type": "code",
      "metadata": {
        "id": "nSUjxifM39-J",
        "colab_type": "code",
        "colab": {}
      },
      "source": [
        "def relu(x):\n",
        "  return np.maximum(x, 0)\n",
        "\n",
        "def sigmoit(x):\n",
        "  return np.exp(-relu(-x)) / (1.0 + np.exp(-np.abs(x)))\n",
        "\n",
        "def sigmoid_derv(x, y):\n",
        "  return y * (1 - y)\n",
        "\n",
        "def sigmoid_cross_entropy_with_logits(z, x):\n",
        "  return relu(x) - x * z + np.log(1 + np.exp(-np.abs(x)))\n",
        "\n",
        "def sigmoid_cross_entropy_with_logits_derv(z, x):\n",
        "  return -z + sigmoit(x)\n"
      ],
      "execution_count": 0,
      "outputs": []
    },
    {
      "cell_type": "code",
      "metadata": {
        "id": "-amfrI0R4_Em",
        "colab_type": "code",
        "colab": {}
      },
      "source": [
        ""
      ],
      "execution_count": 0,
      "outputs": []
    }
  ]
}